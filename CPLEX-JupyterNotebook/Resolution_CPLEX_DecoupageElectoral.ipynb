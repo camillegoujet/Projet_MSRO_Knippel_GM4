{
 "cells": [
  {
   "cell_type": "markdown",
   "metadata": {},
   "source": [
    "# Résolution du modèle sur le toy example créé\n"
   ]
  },
  {
   "cell_type": "code",
   "execution_count": 34,
   "metadata": {},
   "outputs": [],
   "source": [
    "#Importation de la bibliothèque nécessaire \n",
    "from docplex.mp.model import Model\n"
   ]
  },
  {
   "cell_type": "code",
   "execution_count": 35,
   "metadata": {},
   "outputs": [],
   "source": [
    "#Création du modèle de découpage \n",
    "m = Model(name='Découpage éléctoral')"
   ]
  },
  {
   "cell_type": "markdown",
   "metadata": {},
   "source": [
    "# Variables"
   ]
  },
  {
   "cell_type": "code",
   "execution_count": 36,
   "metadata": {},
   "outputs": [],
   "source": [
    "#On entre ensuite les constantes du problème\n",
    "\n",
    "# Cas où on les entre à la main : \n",
    "pVi = [0.4, 0.6, 0.7, 0.2, 0.9]\n",
    "nbVi = [5, 6, 5, 6, 7]\n",
    "\n",
    "n = len(nbVi)\n",
    "k = 2"
   ]
  },
  {
   "cell_type": "code",
   "execution_count": 37,
   "metadata": {},
   "outputs": [],
   "source": [
    "#On insère ici toutes les variables nécessaires : les zj, xij et yij, wilj\n",
    "\n",
    "x = m.binary_var_matrix(range(1,n+1),range(1,k+1), name=\"x\", key_format=None)"
   ]
  },
  {
   "cell_type": "code",
   "execution_count": 38,
   "metadata": {},
   "outputs": [],
   "source": [
    "y = m.binary_var_matrix(range(1,n+1), range(1,k+1), name=\"y\", key_format=None)\n"
   ]
  },
  {
   "cell_type": "code",
   "execution_count": 39,
   "metadata": {},
   "outputs": [],
   "source": [
    "z = m.binary_var_list(range(1,k+1), name=\"z\", key_format=None)\n"
   ]
  },
  {
   "cell_type": "code",
   "execution_count": 40,
   "metadata": {},
   "outputs": [],
   "source": [
    "w = m.binary_var_cube(range(1,n+1),range(1,n+1), range(1,k+1), name=\"w\", key_format=None)"
   ]
  },
  {
   "cell_type": "markdown",
   "metadata": {},
   "source": [
    "## Vérification du bon fonctionnement des données entrées"
   ]
  },
  {
   "cell_type": "markdown",
   "metadata": {},
   "source": [
    "print(x)"
   ]
  },
  {
   "cell_type": "code",
   "execution_count": 41,
   "metadata": {},
   "outputs": [
    {
     "name": "stdout",
     "output_type": "stream",
     "text": [
      "[docplex.mp.Var(type=B,name='z_1'), docplex.mp.Var(type=B,name='z_2')]\n"
     ]
    }
   ],
   "source": [
    "#permet de vérifier si z est de la bonne forme \n",
    "print(z)"
   ]
  },
  {
   "cell_type": "code",
   "execution_count": 42,
   "metadata": {},
   "outputs": [
    {
     "name": "stdout",
     "output_type": "stream",
     "text": [
      "z_1\n"
     ]
    }
   ],
   "source": [
    "#permet de comprendre comment fonctionne les différents indiçages dans docplex \n",
    "print(z[0])"
   ]
  },
  {
   "cell_type": "code",
   "execution_count": 43,
   "metadata": {},
   "outputs": [
    {
     "name": "stdout",
     "output_type": "stream",
     "text": [
      "{(1, 1, 1): docplex.mp.Var(type=B,name='w_1_1_1'), (1, 1, 2): docplex.mp.Var(type=B,name='w_1_1_2'), (1, 2, 1): docplex.mp.Var(type=B,name='w_1_2_1'), (1, 2, 2): docplex.mp.Var(type=B,name='w_1_2_2'), (1, 3, 1): docplex.mp.Var(type=B,name='w_1_3_1'), (1, 3, 2): docplex.mp.Var(type=B,name='w_1_3_2'), (1, 4, 1): docplex.mp.Var(type=B,name='w_1_4_1'), (1, 4, 2): docplex.mp.Var(type=B,name='w_1_4_2'), (1, 5, 1): docplex.mp.Var(type=B,name='w_1_5_1'), (1, 5, 2): docplex.mp.Var(type=B,name='w_1_5_2'), (2, 1, 1): docplex.mp.Var(type=B,name='w_2_1_1'), (2, 1, 2): docplex.mp.Var(type=B,name='w_2_1_2'), (2, 2, 1): docplex.mp.Var(type=B,name='w_2_2_1'), (2, 2, 2): docplex.mp.Var(type=B,name='w_2_2_2'), (2, 3, 1): docplex.mp.Var(type=B,name='w_2_3_1'), (2, 3, 2): docplex.mp.Var(type=B,name='w_2_3_2'), (2, 4, 1): docplex.mp.Var(type=B,name='w_2_4_1'), (2, 4, 2): docplex.mp.Var(type=B,name='w_2_4_2'), (2, 5, 1): docplex.mp.Var(type=B,name='w_2_5_1'), (2, 5, 2): docplex.mp.Var(type=B,name='w_2_5_2'), (3, 1, 1): docplex.mp.Var(type=B,name='w_3_1_1'), (3, 1, 2): docplex.mp.Var(type=B,name='w_3_1_2'), (3, 2, 1): docplex.mp.Var(type=B,name='w_3_2_1'), (3, 2, 2): docplex.mp.Var(type=B,name='w_3_2_2'), (3, 3, 1): docplex.mp.Var(type=B,name='w_3_3_1'), (3, 3, 2): docplex.mp.Var(type=B,name='w_3_3_2'), (3, 4, 1): docplex.mp.Var(type=B,name='w_3_4_1'), (3, 4, 2): docplex.mp.Var(type=B,name='w_3_4_2'), (3, 5, 1): docplex.mp.Var(type=B,name='w_3_5_1'), (3, 5, 2): docplex.mp.Var(type=B,name='w_3_5_2'), (4, 1, 1): docplex.mp.Var(type=B,name='w_4_1_1'), (4, 1, 2): docplex.mp.Var(type=B,name='w_4_1_2'), (4, 2, 1): docplex.mp.Var(type=B,name='w_4_2_1'), (4, 2, 2): docplex.mp.Var(type=B,name='w_4_2_2'), (4, 3, 1): docplex.mp.Var(type=B,name='w_4_3_1'), (4, 3, 2): docplex.mp.Var(type=B,name='w_4_3_2'), (4, 4, 1): docplex.mp.Var(type=B,name='w_4_4_1'), (4, 4, 2): docplex.mp.Var(type=B,name='w_4_4_2'), (4, 5, 1): docplex.mp.Var(type=B,name='w_4_5_1'), (4, 5, 2): docplex.mp.Var(type=B,name='w_4_5_2'), (5, 1, 1): docplex.mp.Var(type=B,name='w_5_1_1'), (5, 1, 2): docplex.mp.Var(type=B,name='w_5_1_2'), (5, 2, 1): docplex.mp.Var(type=B,name='w_5_2_1'), (5, 2, 2): docplex.mp.Var(type=B,name='w_5_2_2'), (5, 3, 1): docplex.mp.Var(type=B,name='w_5_3_1'), (5, 3, 2): docplex.mp.Var(type=B,name='w_5_3_2'), (5, 4, 1): docplex.mp.Var(type=B,name='w_5_4_1'), (5, 4, 2): docplex.mp.Var(type=B,name='w_5_4_2'), (5, 5, 1): docplex.mp.Var(type=B,name='w_5_5_1'), (5, 5, 2): docplex.mp.Var(type=B,name='w_5_5_2')}\n"
     ]
    }
   ],
   "source": [
    "#permet de vérifier si w est de la bonne forme \n",
    "print(w)"
   ]
  },
  {
   "cell_type": "code",
   "execution_count": 44,
   "metadata": {},
   "outputs": [
    {
     "name": "stdout",
     "output_type": "stream",
     "text": [
      "5x_1_1+6x_2_1+5x_3_1+6x_4_1+7x_5_1\n"
     ]
    }
   ],
   "source": [
    "#Vérification simple d'un calcul nécessaire à l'écriture de nos contraintes \n",
    "print(sum([nbVi[i-1]*x[i,1] for i in range(1, n+1)]))"
   ]
  },
  {
   "cell_type": "code",
   "execution_count": 45,
   "metadata": {},
   "outputs": [
    {
     "name": "stdout",
     "output_type": "stream",
     "text": [
      "x_1_1+x_1_2\n"
     ]
    }
   ],
   "source": [
    "#idem \n",
    "print(sum(x[1,j] for j in range(1, k+1)))"
   ]
  },
  {
   "cell_type": "markdown",
   "metadata": {},
   "source": [
    "# Contraintes"
   ]
  },
  {
   "cell_type": "code",
   "execution_count": 46,
   "metadata": {},
   "outputs": [
    {
     "data": {
      "text/plain": [
       "[docplex.mp.LinearConstraint[](x_1_1+x_1_2,EQ,1),\n",
       " docplex.mp.LinearConstraint[](x_2_1+x_2_2,EQ,1),\n",
       " docplex.mp.LinearConstraint[](x_3_1+x_3_2,EQ,1),\n",
       " docplex.mp.LinearConstraint[](x_4_1+x_4_2,EQ,1),\n",
       " docplex.mp.LinearConstraint[](x_5_1+x_5_2,EQ,1)]"
      ]
     },
     "execution_count": 46,
     "metadata": {},
     "output_type": "execute_result"
    }
   ],
   "source": [
    "#Additionner les éléments sur les colonnes\n",
    "m.add_constraints((sum(x[i,j] for j in range(1, k+1)) == 1 for i in range(1, n+1))) \n"
   ]
  },
  {
   "cell_type": "code",
   "execution_count": 47,
   "metadata": {},
   "outputs": [
    {
     "name": "stdout",
     "output_type": "stream",
     "text": [
      "Model: Découpage éléctoral\n",
      " - number of variables: 72\n",
      "   - binary=72, integer=0, continuous=0\n",
      " - number of constraints: 5\n",
      "   - linear=5\n",
      " - parameters: defaults\n",
      " - objective: none\n",
      " - problem type is: MILP\n"
     ]
    }
   ],
   "source": [
    "m.print_information()"
   ]
  },
  {
   "cell_type": "code",
   "execution_count": 48,
   "metadata": {},
   "outputs": [
    {
     "data": {
      "text/plain": [
       "[docplex.mp.LinearConstraint[](x_1_1+x_2_1+x_3_1+x_4_1+x_5_1,GE,1),\n",
       " docplex.mp.LinearConstraint[](x_1_2+x_2_2+x_3_2+x_4_2+x_5_2,GE,1)]"
      ]
     },
     "execution_count": 48,
     "metadata": {},
     "output_type": "execute_result"
    }
   ],
   "source": [
    "#Additionner les éléments sur les lignes\n",
    "m.add_constraints((sum(x[i,j] for i in range(1, n+1)) >= 1 for j in range(1, k+1))) \n"
   ]
  },
  {
   "cell_type": "code",
   "execution_count": 49,
   "metadata": {},
   "outputs": [
    {
     "name": "stdout",
     "output_type": "stream",
     "text": [
      "Model: Découpage éléctoral\n",
      " - number of variables: 72\n",
      "   - binary=72, integer=0, continuous=0\n",
      " - number of constraints: 7\n",
      "   - linear=7\n",
      " - parameters: defaults\n",
      " - objective: none\n",
      " - problem type is: MILP\n"
     ]
    }
   ],
   "source": [
    "m.print_information()"
   ]
  },
  {
   "cell_type": "code",
   "execution_count": 50,
   "metadata": {},
   "outputs": [
    {
     "data": {
      "text/plain": [
       "[docplex.mp.LinearConstraint[](5x_1_1+6x_2_1+5x_3_1+6x_4_1+7x_5_1,LE,17.4),\n",
       " docplex.mp.LinearConstraint[](5x_1_2+6x_2_2+5x_3_2+6x_4_2+7x_5_2,LE,17.4)]"
      ]
     },
     "execution_count": 50,
     "metadata": {},
     "output_type": "execute_result"
    }
   ],
   "source": [
    "#Contraintes à élargir pcq peut-être trop contraignant\n",
    "m.add_constraints(sum(nbVi[i-1]*x[i,j] for i in range(1, n+1)) <= ((1.2)*sum(nbVi)/k) for j in range(1,k+1))\n",
    "\n",
    "\n"
   ]
  },
  {
   "cell_type": "code",
   "execution_count": 51,
   "metadata": {},
   "outputs": [
    {
     "data": {
      "text/plain": [
       "[docplex.mp.LinearConstraint[](5x_1_1+6x_2_1+5x_3_1+6x_4_1+7x_5_1,GE,11.600000000000001),\n",
       " docplex.mp.LinearConstraint[](5x_1_2+6x_2_2+5x_3_2+6x_4_2+7x_5_2,GE,11.600000000000001)]"
      ]
     },
     "execution_count": 51,
     "metadata": {},
     "output_type": "execute_result"
    }
   ],
   "source": [
    "#Contraintes à élargir pcq peut-être trop contraignant\n",
    "m.add_constraints(sum(nbVi[i-1]*x[i,j] for i in range(1, n+1)) >= ((0.8)*sum(nbVi)/k) for j in range(1,k+1))\n"
   ]
  },
  {
   "cell_type": "code",
   "execution_count": 52,
   "metadata": {},
   "outputs": [
    {
     "data": {
      "text/plain": [
       "[docplex.mp.LinearConstraint[](5y_1_1+6y_2_1+5y_3_1+6y_4_1+7y_5_1,LE,4.500x_1_1+6.600x_2_1+6x_3_1+4.200x_4_1+9.800x_5_1),\n",
       " docplex.mp.LinearConstraint[](5y_1_2+6y_2_2+5y_3_2+6y_4_2+7y_5_2,LE,4.500x_1_2+6.600x_2_2+6x_3_2+4.200x_4_2+9.800x_5_2)]"
      ]
     },
     "execution_count": 52,
     "metadata": {},
     "output_type": "execute_result"
    }
   ],
   "source": [
    "m.add_constraints(sum(nbVi[i-1]*y[i,j] for i in range(1, n+1)) <= sum(pVi[i-1]*nbVi[i-1]*x[i,j]+(0.5)*nbVi[i-1]*x[i,j] for i in range(1, n+1)) for j in range(1,k+1))\n"
   ]
  },
  {
   "cell_type": "code",
   "execution_count": 53,
   "metadata": {},
   "outputs": [],
   "source": [
    "for i in range(1,n+1):\n",
    "    for j in range(1,k+1):\n",
    "        m.add_constraint(y[i,j] <= z[j-1])\n",
    "        m.add_constraint(y[i,j] <= x[i,j])\n"
   ]
  },
  {
   "cell_type": "code",
   "execution_count": 54,
   "metadata": {},
   "outputs": [
    {
     "name": "stdout",
     "output_type": "stream",
     "text": [
      "Model: Découpage éléctoral\n",
      " - number of variables: 72\n",
      "   - binary=72, integer=0, continuous=0\n",
      " - number of constraints: 33\n",
      "   - linear=33\n",
      " - parameters: defaults\n",
      " - objective: none\n",
      " - problem type is: MILP\n"
     ]
    }
   ],
   "source": [
    "m.print_information()"
   ]
  },
  {
   "cell_type": "code",
   "execution_count": 55,
   "metadata": {},
   "outputs": [],
   "source": [
    "for i in range(1,n+1):\n",
    "    for j in range(1,k+1):\n",
    "        m.add_constraint(y[i,j] >= z[j-1]+x[i,j]-1)"
   ]
  },
  {
   "cell_type": "code",
   "execution_count": 56,
   "metadata": {},
   "outputs": [
    {
     "name": "stdout",
     "output_type": "stream",
     "text": [
      "Model: Découpage éléctoral\n",
      " - number of variables: 72\n",
      "   - binary=72, integer=0, continuous=0\n",
      " - number of constraints: 43\n",
      "   - linear=43\n",
      " - parameters: defaults\n",
      " - objective: none\n",
      " - problem type is: MILP\n"
     ]
    }
   ],
   "source": [
    "m.print_information()"
   ]
  },
  {
   "cell_type": "code",
   "execution_count": 57,
   "metadata": {},
   "outputs": [],
   "source": [
    "for i in range(1,n+1):\n",
    "    for l in range(1,n+1):\n",
    "        for j in range(1,k+1):\n",
    "            m.add_constraint(w[i,l,j] <= x[l,j])\n",
    "            m.add_constraint(w[i,l,j] <= x[i,j])\n"
   ]
  },
  {
   "cell_type": "code",
   "execution_count": 58,
   "metadata": {},
   "outputs": [],
   "source": [
    "for i in range(1,n+1):\n",
    "        for l in range(1,n+1):\n",
    "            for j in range(1,k+1):\n",
    "                m.add_constraint(w[i,l,j] >= x[i,j]+x[l,j]-1)"
   ]
  },
  {
   "cell_type": "markdown",
   "metadata": {},
   "source": [
    "# Resolution dans l'optique de faire perdre le parti A"
   ]
  },
  {
   "cell_type": "code",
   "execution_count": 59,
   "metadata": {},
   "outputs": [],
   "source": [
    "#Fonction que l'on cherche à optimiser si on veut faire perdre le camp A\n",
    "\n",
    "m.minimize(sum(z))\n"
   ]
  },
  {
   "cell_type": "markdown",
   "metadata": {},
   "source": [
    "# Solution"
   ]
  },
  {
   "cell_type": "code",
   "execution_count": 60,
   "metadata": {},
   "outputs": [],
   "source": [
    "sol = m.solve()"
   ]
  },
  {
   "cell_type": "code",
   "execution_count": 61,
   "metadata": {},
   "outputs": [
    {
     "name": "stdout",
     "output_type": "stream",
     "text": [
      "solution for: Découpage éléctoral\n",
      "objective: 0\n",
      "x_1_2 = 1\n",
      "x_2_2 = 1\n",
      "x_3_2 = 1\n",
      "x_4_1 = 1\n",
      "x_5_1 = 1\n",
      "w_1_1_2 = 1\n",
      "w_1_2_2 = 1\n",
      "w_1_3_2 = 1\n",
      "w_2_1_2 = 1\n",
      "w_2_2_2 = 1\n",
      "w_2_3_2 = 1\n",
      "w_3_1_2 = 1\n",
      "w_3_2_2 = 1\n",
      "w_3_3_2 = 1\n",
      "w_4_4_1 = 1\n",
      "w_4_5_1 = 1\n",
      "w_5_4_1 = 1\n",
      "w_5_5_1 = 1\n"
     ]
    }
   ],
   "source": [
    "sol.display()\n"
   ]
  },
  {
   "cell_type": "markdown",
   "metadata": {},
   "source": [
    "# Resolution dans l'optique de faire gagner le parti A"
   ]
  },
  {
   "cell_type": "code",
   "execution_count": 62,
   "metadata": {},
   "outputs": [],
   "source": [
    "m.maximize(sum(z))\n"
   ]
  },
  {
   "cell_type": "code",
   "execution_count": 63,
   "metadata": {},
   "outputs": [],
   "source": [
    "solmax = m.solve()"
   ]
  },
  {
   "cell_type": "code",
   "execution_count": 64,
   "metadata": {},
   "outputs": [
    {
     "name": "stdout",
     "output_type": "stream",
     "text": [
      "solution for: Découpage éléctoral\n",
      "objective: 2\n",
      "x_1_1 = 1\n",
      "x_2_1 = 1\n",
      "x_3_1 = 1\n",
      "x_4_2 = 1\n",
      "x_5_2 = 1\n",
      "y_1_1 = 1\n",
      "y_2_1 = 1\n",
      "y_3_1 = 1\n",
      "y_4_2 = 1\n",
      "y_5_2 = 1\n",
      "z_1 = 1\n",
      "z_2 = 1\n",
      "w_1_1_1 = 1\n",
      "w_1_2_1 = 1\n",
      "w_1_3_1 = 1\n",
      "w_2_1_1 = 1\n",
      "w_2_2_1 = 1\n",
      "w_2_3_1 = 1\n",
      "w_3_1_1 = 1\n",
      "w_3_2_1 = 1\n",
      "w_3_3_1 = 1\n",
      "w_4_4_2 = 1\n",
      "w_4_5_2 = 1\n",
      "w_5_4_2 = 1\n",
      "w_5_5_2 = 1\n"
     ]
    }
   ],
   "source": [
    "solmax.display()\n"
   ]
  },
  {
   "cell_type": "code",
   "execution_count": 30,
   "metadata": {},
   "outputs": [
    {
     "name": "stdout",
     "output_type": "stream",
     "text": [
      "1.0\n",
      "x _ 1 _ 1  =  0\n",
      "x _ 2 _ 1  =  1.0\n",
      "x _ 3 _ 1  =  1.0\n",
      "x _ 4 _ 1  =  0\n",
      "x _ 5 _ 1  =  0\n",
      "1.0\n",
      "x _ 1 _ 2  =  1.0\n",
      "x _ 2 _ 2  =  0\n",
      "x _ 3 _ 2  =  0\n",
      "x _ 4 _ 2  =  1.0\n",
      "x _ 5 _ 2  =  1.0\n"
     ]
    }
   ],
   "source": [
    "for j in range(1,k+1):\n",
    "    print(z[j-1].solution_value)\n",
    "    for i in range(1,n+1):\n",
    "        print(\"x\",\"_\",i,\"_\", j, \" = \", x[i,j].solution_value)\n",
    "        y[i,j].solution_value"
   ]
  },
  {
   "cell_type": "code",
   "execution_count": null,
   "metadata": {},
   "outputs": [],
   "source": []
  },
  {
   "cell_type": "code",
   "execution_count": null,
   "metadata": {},
   "outputs": [],
   "source": []
  }
 ],
 "metadata": {
  "kernelspec": {
   "display_name": "Python 3",
   "language": "python",
   "name": "python3"
  },
  "language_info": {
   "codemirror_mode": {
    "name": "ipython",
    "version": 3
   },
   "file_extension": ".py",
   "mimetype": "text/x-python",
   "name": "python",
   "nbconvert_exporter": "python",
   "pygments_lexer": "ipython3",
   "version": "3.8.5"
  }
 },
 "nbformat": 4,
 "nbformat_minor": 1
}
