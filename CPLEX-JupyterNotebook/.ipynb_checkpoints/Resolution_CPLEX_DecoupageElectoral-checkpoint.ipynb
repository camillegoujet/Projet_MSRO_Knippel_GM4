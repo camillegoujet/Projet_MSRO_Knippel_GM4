{
 "cells": [
  {
   "cell_type": "markdown",
   "metadata": {},
   "source": [
    "# Ecriture du modèle à résoudre\n"
   ]
  },
  {
   "cell_type": "code",
   "execution_count": 1,
   "metadata": {},
   "outputs": [],
   "source": [
    "from docplex.mp.model import Model\n"
   ]
  },
  {
   "cell_type": "code",
   "execution_count": 2,
   "metadata": {},
   "outputs": [],
   "source": [
    "m = Model(name='Découpage éléctoral')"
   ]
  },
  {
   "cell_type": "markdown",
   "metadata": {},
   "source": [
    "# Variables"
   ]
  },
  {
   "cell_type": "code",
   "execution_count": 3,
   "metadata": {},
   "outputs": [],
   "source": [
    "#On entre ensuite les constantes du problème\n",
    "# Pour le cas où on les entre à la main \n",
    "pVi = [0.4, 0.6, 0.7, 0.2, 0.9]\n",
    "nbVi = [5, 6, 5, 6, 7]\n",
    "\n",
    "n = len(nbVi)\n",
    "k = 2"
   ]
  },
  {
   "cell_type": "code",
   "execution_count": 4,
   "metadata": {},
   "outputs": [],
   "source": [
    "#On insère ici toutes les variables nécessaires : les zj, xij et yij\n",
    "\n",
    "x = m.binary_var_matrix(range(1,n+1),range(1,k+1), name=\"x\", key_format=None)"
   ]
  },
  {
   "cell_type": "code",
   "execution_count": 5,
   "metadata": {},
   "outputs": [],
   "source": [
    "y = m.binary_var_matrix(range(1,n+1), range(1,k+1), name=\"y\", key_format=None)\n"
   ]
  },
  {
   "cell_type": "code",
   "execution_count": 20,
   "metadata": {},
   "outputs": [
    {
     "name": "stdout",
     "output_type": "stream",
     "text": [
      "Warning: Duplicate variable name: z_1 already used for z_1\n",
      "Warning: Duplicate variable name: z_2 already used for z_2\n"
     ]
    }
   ],
   "source": [
    "z = m.binary_var_list(range(1,k+1), name=\"z\", key_format=None)\n"
   ]
  },
  {
   "cell_type": "code",
   "execution_count": 21,
   "metadata": {},
   "outputs": [
    {
     "name": "stdout",
     "output_type": "stream",
     "text": [
      "{(1, 1): docplex.mp.Var(type=B,name='x_1_1'), (1, 2): docplex.mp.Var(type=B,name='x_1_2'), (2, 1): docplex.mp.Var(type=B,name='x_2_1'), (2, 2): docplex.mp.Var(type=B,name='x_2_2'), (3, 1): docplex.mp.Var(type=B,name='x_3_1'), (3, 2): docplex.mp.Var(type=B,name='x_3_2'), (4, 1): docplex.mp.Var(type=B,name='x_4_1'), (4, 2): docplex.mp.Var(type=B,name='x_4_2'), (5, 1): docplex.mp.Var(type=B,name='x_5_1'), (5, 2): docplex.mp.Var(type=B,name='x_5_2')}\n"
     ]
    }
   ],
   "source": [
    "print(x)"
   ]
  },
  {
   "cell_type": "code",
   "execution_count": 22,
   "metadata": {},
   "outputs": [
    {
     "name": "stdout",
     "output_type": "stream",
     "text": [
      "[docplex.mp.Var(type=B,name='z_1'), docplex.mp.Var(type=B,name='z_2')]\n"
     ]
    }
   ],
   "source": [
    "print(z)"
   ]
  },
  {
   "cell_type": "code",
   "execution_count": 23,
   "metadata": {},
   "outputs": [
    {
     "name": "stdout",
     "output_type": "stream",
     "text": [
      "z_1\n"
     ]
    }
   ],
   "source": [
    "print(z[0])"
   ]
  },
  {
   "cell_type": "code",
   "execution_count": 24,
   "metadata": {},
   "outputs": [
    {
     "name": "stdout",
     "output_type": "stream",
     "text": [
      "5x_1_1+6x_2_1+5x_3_1+6x_4_1+7x_5_1\n"
     ]
    }
   ],
   "source": [
    "print(sum([nbVi[i-1]*x[i,1] for i in range(1, n+1)]))"
   ]
  },
  {
   "cell_type": "code",
   "execution_count": 25,
   "metadata": {},
   "outputs": [
    {
     "name": "stdout",
     "output_type": "stream",
     "text": [
      "x_1_1+x_1_2\n"
     ]
    }
   ],
   "source": [
    "print(sum(x[1,j] for j in range(1, k+1)))"
   ]
  },
  {
   "cell_type": "markdown",
   "metadata": {},
   "source": [
    "# Constraints"
   ]
  },
  {
   "cell_type": "code",
   "execution_count": 26,
   "metadata": {},
   "outputs": [
    {
     "data": {
      "text/plain": [
       "[docplex.mp.LinearConstraint[](x_1_1+x_1_2,EQ,1),\n",
       " docplex.mp.LinearConstraint[](x_2_1+x_2_2,EQ,1),\n",
       " docplex.mp.LinearConstraint[](x_3_1+x_3_2,EQ,1),\n",
       " docplex.mp.LinearConstraint[](x_4_1+x_4_2,EQ,1),\n",
       " docplex.mp.LinearConstraint[](x_5_1+x_5_2,EQ,1)]"
      ]
     },
     "execution_count": 26,
     "metadata": {},
     "output_type": "execute_result"
    }
   ],
   "source": [
    "#Additionner les éléments sur les colonnes\n",
    "m.add_constraints((sum(x[i,j] for j in range(1, k+1)) == 1 for i in range(1, n+1))) \n"
   ]
  },
  {
   "cell_type": "code",
   "execution_count": 27,
   "metadata": {},
   "outputs": [
    {
     "name": "stdout",
     "output_type": "stream",
     "text": [
      "Model: Découpage éléctoral\n",
      " - number of variables: 26\n",
      "   - binary=26, integer=0, continuous=0\n",
      " - number of constraints: 10\n",
      "   - linear=10\n",
      " - parameters: defaults\n",
      " - objective: none\n",
      " - problem type is: MILP\n"
     ]
    }
   ],
   "source": [
    "m.print_information()"
   ]
  },
  {
   "cell_type": "code",
   "execution_count": 28,
   "metadata": {},
   "outputs": [
    {
     "data": {
      "text/plain": [
       "[docplex.mp.LinearConstraint[](x_1_1+x_2_1+x_3_1+x_4_1+x_5_1,GE,1),\n",
       " docplex.mp.LinearConstraint[](x_1_2+x_2_2+x_3_2+x_4_2+x_5_2,GE,1)]"
      ]
     },
     "execution_count": 28,
     "metadata": {},
     "output_type": "execute_result"
    }
   ],
   "source": [
    "#Additionner les éléments sur les lignes\n",
    "m.add_constraints((sum(x[i,j] for i in range(1, n+1)) >= 1 for j in range(1, k+1))) \n"
   ]
  },
  {
   "cell_type": "code",
   "execution_count": 29,
   "metadata": {},
   "outputs": [
    {
     "name": "stdout",
     "output_type": "stream",
     "text": [
      "Model: Découpage éléctoral\n",
      " - number of variables: 26\n",
      "   - binary=26, integer=0, continuous=0\n",
      " - number of constraints: 12\n",
      "   - linear=12\n",
      " - parameters: defaults\n",
      " - objective: none\n",
      " - problem type is: MILP\n"
     ]
    }
   ],
   "source": [
    "m.print_information()"
   ]
  },
  {
   "cell_type": "code",
   "execution_count": 30,
   "metadata": {},
   "outputs": [
    {
     "data": {
      "text/plain": [
       "[docplex.mp.LinearConstraint[](5x_1_1+6x_2_1+5x_3_1+6x_4_1+7x_5_1,LE,17.4),\n",
       " docplex.mp.LinearConstraint[](5x_1_2+6x_2_2+5x_3_2+6x_4_2+7x_5_2,LE,17.4)]"
      ]
     },
     "execution_count": 30,
     "metadata": {},
     "output_type": "execute_result"
    }
   ],
   "source": [
    "m.add_constraints(sum(nbVi[i-1]*x[i,j] for i in range(1, n+1)) <= ((1.2)*sum(nbVi)/k) for j in range(1,k+1))\n",
    "\n",
    "\n"
   ]
  },
  {
   "cell_type": "code",
   "execution_count": 31,
   "metadata": {},
   "outputs": [
    {
     "data": {
      "text/plain": [
       "[docplex.mp.LinearConstraint[](5x_1_1+6x_2_1+5x_3_1+6x_4_1+7x_5_1,GE,11.600000000000001),\n",
       " docplex.mp.LinearConstraint[](5x_1_2+6x_2_2+5x_3_2+6x_4_2+7x_5_2,GE,11.600000000000001)]"
      ]
     },
     "execution_count": 31,
     "metadata": {},
     "output_type": "execute_result"
    }
   ],
   "source": [
    "m.add_constraints(sum(nbVi[i-1]*x[i,j] for i in range(1, n+1)) >= ((0.8)*sum(nbVi)/k) for j in range(1,k+1))\n"
   ]
  },
  {
   "cell_type": "code",
   "execution_count": 32,
   "metadata": {},
   "outputs": [
    {
     "data": {
      "text/plain": [
       "[docplex.mp.LinearConstraint[](5y_1_1+6y_2_1+5y_3_1+6y_4_1+7y_5_1,LE,4.500x_1_1+6.600x_2_1+6x_3_1+4.200x_4_1+9.800x_5_1),\n",
       " docplex.mp.LinearConstraint[](5y_1_2+6y_2_2+5y_3_2+6y_4_2+7y_5_2,LE,4.500x_1_2+6.600x_2_2+6x_3_2+4.200x_4_2+9.800x_5_2)]"
      ]
     },
     "execution_count": 32,
     "metadata": {},
     "output_type": "execute_result"
    }
   ],
   "source": [
    "m.add_constraints(sum(nbVi[i-1]*y[i,j] for i in range(1, n+1)) <= sum(pVi[i-1]*nbVi[i-1]*x[i,j]+(0.5)*nbVi[i-1]*x[i,j] for i in range(1, n+1)) for j in range(1,k+1))\n"
   ]
  },
  {
   "cell_type": "code",
   "execution_count": 33,
   "metadata": {},
   "outputs": [],
   "source": [
    "for i in range(1,n+1):\n",
    "    for j in range(1,k+1):\n",
    "        m.add_constraint(y[i,j] <= (0.5)*(z[j-1]+x[i,j]))\n"
   ]
  },
  {
   "cell_type": "code",
   "execution_count": 34,
   "metadata": {},
   "outputs": [
    {
     "name": "stdout",
     "output_type": "stream",
     "text": [
      "Model: Découpage éléctoral\n",
      " - number of variables: 26\n",
      "   - binary=26, integer=0, continuous=0\n",
      " - number of constraints: 28\n",
      "   - linear=28\n",
      " - parameters: defaults\n",
      " - objective: none\n",
      " - problem type is: MILP\n"
     ]
    }
   ],
   "source": [
    "m.print_information()"
   ]
  },
  {
   "cell_type": "code",
   "execution_count": 35,
   "metadata": {},
   "outputs": [],
   "source": [
    "for i in range(1,n+1):\n",
    "    for j in range(1,k+1):\n",
    "        m.add_constraint(y[i,j] >= z[j-1]+x[i,j]-1)"
   ]
  },
  {
   "cell_type": "code",
   "execution_count": 36,
   "metadata": {},
   "outputs": [
    {
     "name": "stdout",
     "output_type": "stream",
     "text": [
      "Model: Découpage éléctoral\n",
      " - number of variables: 26\n",
      "   - binary=26, integer=0, continuous=0\n",
      " - number of constraints: 38\n",
      "   - linear=38\n",
      " - parameters: defaults\n",
      " - objective: none\n",
      " - problem type is: MILP\n"
     ]
    }
   ],
   "source": [
    "m.print_information()"
   ]
  },
  {
   "cell_type": "markdown",
   "metadata": {},
   "source": [
    "# Goals"
   ]
  },
  {
   "cell_type": "code",
   "execution_count": 41,
   "metadata": {},
   "outputs": [],
   "source": [
    "#Fonction que l'on cherche à optimiser \n",
    "\n",
    "m.minimize(sum(z))\n"
   ]
  },
  {
   "cell_type": "markdown",
   "metadata": {},
   "source": [
    "# Solution"
   ]
  },
  {
   "cell_type": "code",
   "execution_count": 42,
   "metadata": {},
   "outputs": [],
   "source": [
    "sol = m.solve()"
   ]
  },
  {
   "cell_type": "code",
   "execution_count": 43,
   "metadata": {},
   "outputs": [
    {
     "name": "stdout",
     "output_type": "stream",
     "text": [
      "solution for: Découpage éléctoral\n",
      "objective: 0\n",
      "x_1_2 = 1\n",
      "x_2_2 = 1\n",
      "x_3_2 = 1\n",
      "x_4_1 = 1\n",
      "x_5_1 = 1\n"
     ]
    }
   ],
   "source": [
    "sol.display()\n"
   ]
  },
  {
   "cell_type": "code",
   "execution_count": 45,
   "metadata": {},
   "outputs": [],
   "source": [
    "m.maximize(sum(z))\n"
   ]
  },
  {
   "cell_type": "code",
   "execution_count": 46,
   "metadata": {},
   "outputs": [],
   "source": [
    "solmax = m.solve()"
   ]
  },
  {
   "cell_type": "code",
   "execution_count": 47,
   "metadata": {},
   "outputs": [
    {
     "name": "stdout",
     "output_type": "stream",
     "text": [
      "solution for: Découpage éléctoral\n",
      "objective: 2\n",
      "x_1_1 = 1\n",
      "x_2_1 = 1\n",
      "x_3_1 = 1\n",
      "x_4_2 = 1\n",
      "x_5_2 = 1\n",
      "y_1_1 = 1\n",
      "y_2_1 = 1\n",
      "y_3_1 = 1\n",
      "y_4_2 = 1\n",
      "y_5_2 = 1\n",
      "z_1 = 1\n",
      "z_2 = 1\n"
     ]
    }
   ],
   "source": [
    "solmax.display()\n"
   ]
  },
  {
   "cell_type": "code",
   "execution_count": 53,
   "metadata": {},
   "outputs": [
    {
     "name": "stdout",
     "output_type": "stream",
     "text": [
      "1.0\n",
      "x _ 1 _ 1  =  1.0\n",
      "x _ 2 _ 1  =  1.0\n",
      "x _ 3 _ 1  =  1.0\n",
      "x _ 4 _ 1  =  0\n",
      "x _ 5 _ 1  =  0\n",
      "1.0\n",
      "x _ 1 _ 2  =  0\n",
      "x _ 2 _ 2  =  0\n",
      "x _ 3 _ 2  =  0\n",
      "x _ 4 _ 2  =  1.0\n",
      "x _ 5 _ 2  =  1.0\n"
     ]
    }
   ],
   "source": [
    "for j in range(1,k+1):\n",
    "    print(z[j-1].solution_value)\n",
    "    for i in range(1,n+1):\n",
    "        print(\"x\",\"_\",i,\"_\", j, \" = \", x[i,j].solution_value)\n",
    "        y[i,j].solution_value"
   ]
  },
  {
   "cell_type": "code",
   "execution_count": null,
   "metadata": {},
   "outputs": [],
   "source": []
  }
 ],
 "metadata": {
  "kernelspec": {
   "display_name": "Python 3",
   "language": "python",
   "name": "python3"
  },
  "language_info": {
   "codemirror_mode": {
    "name": "ipython",
    "version": 3
   },
   "file_extension": ".py",
   "mimetype": "text/x-python",
   "name": "python",
   "nbconvert_exporter": "python",
   "pygments_lexer": "ipython3",
   "version": "3.8.5"
  }
 },
 "nbformat": 4,
 "nbformat_minor": 1
}
